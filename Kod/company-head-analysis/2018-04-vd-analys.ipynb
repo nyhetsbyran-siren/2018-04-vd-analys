{
 "cells": [
  {
   "cell_type": "markdown",
   "metadata": {},
   "source": [
    "# Analys av könsfördelningen bland vd:ar i svenska aktiebolag\n",
    "\n",
    "av [Anna Norberg](https://twitter.com/annanorberg)\n",
    "\n",
    "Hur ser könsfördelningen ut bland vd:ar för aktiebolag i landets kommuner? Nyhetsbyrån Siren har gjort en analys av Bolagsverkets öppna data om företrädare i svenska företag, som finns dokumenterad nedan.\n",
    "\n",
    "I beräkningen ingår alla aktiebolag i Sverige i april 2018 där en vd finns utsedd. Endast publika aktiebolag måste utse en vd. Privata aktiebolag kan utse en vd, men behöver inte göra det.\n",
    "\n",
    "Resultatet från analysen har rapporterats i en artikel som skickades ut till Nyhetsbyrån Sirens kunder den 12 april 2018."
   ]
  },
  {
   "cell_type": "markdown",
   "metadata": {},
   "source": [
    "## Så här gjorde vi"
   ]
  },
  {
   "cell_type": "markdown",
   "metadata": {},
   "source": [
    "### Importera Pythons analysverktyg"
   ]
  },
  {
   "cell_type": "code",
   "execution_count": 1,
   "metadata": {},
   "outputs": [],
   "source": [
    "import pandas as pd"
   ]
  },
  {
   "cell_type": "markdown",
   "metadata": {},
   "source": [
    "### Läs in data från Bolagsverkets hemsida"
   ]
  },
  {
   "cell_type": "code",
   "execution_count": 2,
   "metadata": {},
   "outputs": [],
   "source": [
    "heads = pd.read_csv(\"http://www.bolagsverket.se/statistik/foretradare_historik.csv\", engine='python', delimiter='\\;')"
   ]
  },
  {
   "cell_type": "markdown",
   "metadata": {},
   "source": [
    "Visa de fem första raderna i datasetet"
   ]
  },
  {
   "cell_type": "code",
   "execution_count": 3,
   "metadata": {},
   "outputs": [
    {
     "data": {
      "text/html": [
       "<div>\n",
       "<style scoped>\n",
       "    .dataframe tbody tr th:only-of-type {\n",
       "        vertical-align: middle;\n",
       "    }\n",
       "\n",
       "    .dataframe tbody tr th {\n",
       "        vertical-align: top;\n",
       "    }\n",
       "\n",
       "    .dataframe thead th {\n",
       "        text-align: right;\n",
       "    }\n",
       "</style>\n",
       "<table border=\"1\" class=\"dataframe\">\n",
       "  <thead>\n",
       "    <tr style=\"text-align: right;\">\n",
       "      <th></th>\n",
       "      <th>Ar</th>\n",
       "      <th>Foretagsform</th>\n",
       "      <th>Lan</th>\n",
       "      <th>Kommun</th>\n",
       "      <th>PrivatPublikt</th>\n",
       "      <th>Arbetstagarrepresentant</th>\n",
       "      <th>Utlandsbosatt</th>\n",
       "      <th>Bosatt_EES</th>\n",
       "      <th>Kon</th>\n",
       "      <th>Alder_intervall</th>\n",
       "      <th>...</th>\n",
       "      <th>Antal_REVS</th>\n",
       "      <th>Antal_REVSL</th>\n",
       "      <th>Antal_REVST</th>\n",
       "      <th>Antal_REVT</th>\n",
       "      <th>Antal_SU</th>\n",
       "      <th>Antal_SVD</th>\n",
       "      <th>Antal_VD</th>\n",
       "      <th>Antal_VLE</th>\n",
       "      <th>Antal_VOF</th>\n",
       "      <th>Antal_VVD</th>\n",
       "    </tr>\n",
       "  </thead>\n",
       "  <tbody>\n",
       "    <tr>\n",
       "      <th>0</th>\n",
       "      <td>2003</td>\n",
       "      <td>AB</td>\n",
       "      <td>Blekinge l�n</td>\n",
       "      <td>Karlshamn kommun</td>\n",
       "      <td>PRIV</td>\n",
       "      <td></td>\n",
       "      <td></td>\n",
       "      <td></td>\n",
       "      <td>Kvinna</td>\n",
       "      <td>50 �r och �ldre</td>\n",
       "      <td>...</td>\n",
       "      <td>10</td>\n",
       "      <td>0</td>\n",
       "      <td>0</td>\n",
       "      <td>0</td>\n",
       "      <td>221</td>\n",
       "      <td>0</td>\n",
       "      <td>6</td>\n",
       "      <td>0</td>\n",
       "      <td>0</td>\n",
       "      <td>2</td>\n",
       "    </tr>\n",
       "    <tr>\n",
       "      <th>1</th>\n",
       "      <td>2003</td>\n",
       "      <td>AB</td>\n",
       "      <td>Blekinge l�n</td>\n",
       "      <td>Karlshamn kommun</td>\n",
       "      <td>PRIV</td>\n",
       "      <td></td>\n",
       "      <td></td>\n",
       "      <td></td>\n",
       "      <td>Kvinna</td>\n",
       "      <td>Yngre �n 50 �r</td>\n",
       "      <td>...</td>\n",
       "      <td>18</td>\n",
       "      <td>1</td>\n",
       "      <td>0</td>\n",
       "      <td>0</td>\n",
       "      <td>180</td>\n",
       "      <td>0</td>\n",
       "      <td>8</td>\n",
       "      <td>0</td>\n",
       "      <td>0</td>\n",
       "      <td>0</td>\n",
       "    </tr>\n",
       "    <tr>\n",
       "      <th>2</th>\n",
       "      <td>2003</td>\n",
       "      <td>AB</td>\n",
       "      <td>Blekinge l�n</td>\n",
       "      <td>Karlshamn kommun</td>\n",
       "      <td>PRIV</td>\n",
       "      <td></td>\n",
       "      <td></td>\n",
       "      <td></td>\n",
       "      <td>Man</td>\n",
       "      <td>50 �r och �ldre</td>\n",
       "      <td>...</td>\n",
       "      <td>51</td>\n",
       "      <td>11</td>\n",
       "      <td>0</td>\n",
       "      <td>0</td>\n",
       "      <td>197</td>\n",
       "      <td>0</td>\n",
       "      <td>100</td>\n",
       "      <td>0</td>\n",
       "      <td>0</td>\n",
       "      <td>3</td>\n",
       "    </tr>\n",
       "    <tr>\n",
       "      <th>3</th>\n",
       "      <td>2003</td>\n",
       "      <td>AB</td>\n",
       "      <td>Blekinge l�n</td>\n",
       "      <td>Karlshamn kommun</td>\n",
       "      <td>PRIV</td>\n",
       "      <td></td>\n",
       "      <td></td>\n",
       "      <td></td>\n",
       "      <td>Man</td>\n",
       "      <td>Yngre �n 50 �r</td>\n",
       "      <td>...</td>\n",
       "      <td>214</td>\n",
       "      <td>0</td>\n",
       "      <td>0</td>\n",
       "      <td>0</td>\n",
       "      <td>128</td>\n",
       "      <td>0</td>\n",
       "      <td>87</td>\n",
       "      <td>0</td>\n",
       "      <td>0</td>\n",
       "      <td>5</td>\n",
       "    </tr>\n",
       "    <tr>\n",
       "      <th>4</th>\n",
       "      <td>2003</td>\n",
       "      <td>AB</td>\n",
       "      <td>Blekinge l�n</td>\n",
       "      <td>Karlshamn kommun</td>\n",
       "      <td>PRIV</td>\n",
       "      <td></td>\n",
       "      <td></td>\n",
       "      <td></td>\n",
       "      <td>Org</td>\n",
       "      <td>Ok�nd</td>\n",
       "      <td>...</td>\n",
       "      <td>0</td>\n",
       "      <td>0</td>\n",
       "      <td>0</td>\n",
       "      <td>0</td>\n",
       "      <td>0</td>\n",
       "      <td>0</td>\n",
       "      <td>0</td>\n",
       "      <td>0</td>\n",
       "      <td>0</td>\n",
       "      <td>0</td>\n",
       "    </tr>\n",
       "  </tbody>\n",
       "</table>\n",
       "<p>5 rows × 41 columns</p>\n",
       "</div>"
      ],
      "text/plain": [
       "     Ar Foretagsform           Lan            Kommun PrivatPublikt  \\\n",
       "0  2003           AB  Blekinge l�n  Karlshamn kommun          PRIV   \n",
       "1  2003           AB  Blekinge l�n  Karlshamn kommun          PRIV   \n",
       "2  2003           AB  Blekinge l�n  Karlshamn kommun          PRIV   \n",
       "3  2003           AB  Blekinge l�n  Karlshamn kommun          PRIV   \n",
       "4  2003           AB  Blekinge l�n  Karlshamn kommun          PRIV   \n",
       "\n",
       "  Arbetstagarrepresentant Utlandsbosatt Bosatt_EES     Kon  Alder_intervall  \\\n",
       "0                                                   Kvinna  50 �r och �ldre   \n",
       "1                                                   Kvinna   Yngre �n 50 �r   \n",
       "2                                                      Man  50 �r och �ldre   \n",
       "3                                                      Man   Yngre �n 50 �r   \n",
       "4                                                      Org            Ok�nd   \n",
       "\n",
       "     ...     Antal_REVS Antal_REVSL  Antal_REVST  Antal_REVT  Antal_SU  \\\n",
       "0    ...             10           0            0           0       221   \n",
       "1    ...             18           1            0           0       180   \n",
       "2    ...             51          11            0           0       197   \n",
       "3    ...            214           0            0           0       128   \n",
       "4    ...              0           0            0           0         0   \n",
       "\n",
       "   Antal_SVD  Antal_VD  Antal_VLE  Antal_VOF  Antal_VVD  \n",
       "0          0         6          0          0          2  \n",
       "1          0         8          0          0          0  \n",
       "2          0       100          0          0          3  \n",
       "3          0        87          0          0          5  \n",
       "4          0         0          0          0          0  \n",
       "\n",
       "[5 rows x 41 columns]"
      ]
     },
     "execution_count": 3,
     "metadata": {},
     "output_type": "execute_result"
    }
   ],
   "source": [
    "heads.head()"
   ]
  },
  {
   "cell_type": "markdown",
   "metadata": {},
   "source": [
    "### Förbered datan för analys"
   ]
  },
  {
   "cell_type": "markdown",
   "metadata": {},
   "source": [
    "Filtrera ut endast aktiebolag."
   ]
  },
  {
   "cell_type": "code",
   "execution_count": 4,
   "metadata": {},
   "outputs": [],
   "source": [
    "aktiebolag = heads[heads.Foretagsform == \"AB\"]"
   ]
  },
  {
   "cell_type": "markdown",
   "metadata": {},
   "source": [
    "Filtrera ut aktuellt år."
   ]
  },
  {
   "cell_type": "code",
   "execution_count": 5,
   "metadata": {},
   "outputs": [],
   "source": [
    "ab_arton = aktiebolag[aktiebolag.Ar == 2018]"
   ]
  },
  {
   "cell_type": "markdown",
   "metadata": {},
   "source": [
    "Filtrera ut företag med fysiska företrädare."
   ]
  },
  {
   "cell_type": "code",
   "execution_count": 6,
   "metadata": {},
   "outputs": [],
   "source": [
    "ab_arton_fys = ab_arton[ab_arton.JurFys == \"F\"]"
   ]
  },
  {
   "cell_type": "markdown",
   "metadata": {},
   "source": [
    "Summera antalet vd per kön och kommun."
   ]
  },
  {
   "cell_type": "code",
   "execution_count": 7,
   "metadata": {},
   "outputs": [],
   "source": [
    "vd= ab_arton_fys.groupby([\"Kommun\", \"Kon\"]).Antal_VD.sum().reset_index()"
   ]
  },
  {
   "cell_type": "code",
   "execution_count": 8,
   "metadata": {},
   "outputs": [],
   "source": [
    "kommuner = vd.pivot(index=\"Kommun\", columns=\"Kon\")"
   ]
  },
  {
   "cell_type": "code",
   "execution_count": 9,
   "metadata": {},
   "outputs": [],
   "source": [
    "pd.set_option('precision', 0)"
   ]
  },
  {
   "cell_type": "markdown",
   "metadata": {},
   "source": [
    "Nu ser datasetet ut så här:"
   ]
  },
  {
   "cell_type": "code",
   "execution_count": 10,
   "metadata": {},
   "outputs": [
    {
     "name": "stdout",
     "output_type": "stream",
     "text": [
      "<class 'pandas.core.frame.DataFrame'>\n",
      "Index: 290 entries, Ale kommun to �vertorne� kommun\n",
      "Data columns (total 3 columns):\n",
      "(Antal_VD, Kvinna)    290 non-null float64\n",
      "(Antal_VD, Man)       290 non-null float64\n",
      "(Antal_VD, Ok�nt)     288 non-null float64\n",
      "dtypes: float64(3)\n",
      "memory usage: 9.1+ KB\n"
     ]
    }
   ],
   "source": [
    "kommuner.info()"
   ]
  },
  {
   "cell_type": "code",
   "execution_count": 11,
   "metadata": {},
   "outputs": [
    {
     "data": {
      "text/html": [
       "<div>\n",
       "<style scoped>\n",
       "    .dataframe tbody tr th:only-of-type {\n",
       "        vertical-align: middle;\n",
       "    }\n",
       "\n",
       "    .dataframe tbody tr th {\n",
       "        vertical-align: top;\n",
       "    }\n",
       "\n",
       "    .dataframe thead tr th {\n",
       "        text-align: left;\n",
       "    }\n",
       "\n",
       "    .dataframe thead tr:last-of-type th {\n",
       "        text-align: right;\n",
       "    }\n",
       "</style>\n",
       "<table border=\"1\" class=\"dataframe\">\n",
       "  <thead>\n",
       "    <tr>\n",
       "      <th></th>\n",
       "      <th colspan=\"3\" halign=\"left\">Antal_VD</th>\n",
       "    </tr>\n",
       "    <tr>\n",
       "      <th>Kon</th>\n",
       "      <th>Kvinna</th>\n",
       "      <th>Man</th>\n",
       "      <th>Ok�nt</th>\n",
       "    </tr>\n",
       "    <tr>\n",
       "      <th>Kommun</th>\n",
       "      <th></th>\n",
       "      <th></th>\n",
       "      <th></th>\n",
       "    </tr>\n",
       "  </thead>\n",
       "  <tbody>\n",
       "    <tr>\n",
       "      <th>Ale kommun</th>\n",
       "      <td>28</td>\n",
       "      <td>152</td>\n",
       "      <td>1</td>\n",
       "    </tr>\n",
       "    <tr>\n",
       "      <th>Alings�s kommun</th>\n",
       "      <td>73</td>\n",
       "      <td>377</td>\n",
       "      <td>2</td>\n",
       "    </tr>\n",
       "    <tr>\n",
       "      <th>Alvesta kommun</th>\n",
       "      <td>9</td>\n",
       "      <td>112</td>\n",
       "      <td>3</td>\n",
       "    </tr>\n",
       "    <tr>\n",
       "      <th>Aneby kommun</th>\n",
       "      <td>4</td>\n",
       "      <td>35</td>\n",
       "      <td>3</td>\n",
       "    </tr>\n",
       "    <tr>\n",
       "      <th>Arboga kommun</th>\n",
       "      <td>16</td>\n",
       "      <td>89</td>\n",
       "      <td>0</td>\n",
       "    </tr>\n",
       "  </tbody>\n",
       "</table>\n",
       "</div>"
      ],
      "text/plain": [
       "                Antal_VD           \n",
       "Kon               Kvinna  Man Ok�nt\n",
       "Kommun                             \n",
       "Ale kommun            28  152     1\n",
       "Alings�s kommun       73  377     2\n",
       "Alvesta kommun         9  112     3\n",
       "Aneby kommun           4   35     3\n",
       "Arboga kommun         16   89     0"
      ]
     },
     "execution_count": 11,
     "metadata": {},
     "output_type": "execute_result"
    }
   ],
   "source": [
    "kommuner.head()"
   ]
  },
  {
   "cell_type": "markdown",
   "metadata": {},
   "source": [
    "Skippa kolumnen \"okänt\"."
   ]
  },
  {
   "cell_type": "code",
   "execution_count": 12,
   "metadata": {},
   "outputs": [],
   "source": [
    "kommuner.drop(kommuner.columns[[2]], axis=1, inplace=True)"
   ]
  },
  {
   "cell_type": "markdown",
   "metadata": {},
   "source": [
    "### Beräkna totalt antal vd:ar, samt andelen kvinnor och män"
   ]
  },
  {
   "cell_type": "code",
   "execution_count": 13,
   "metadata": {},
   "outputs": [],
   "source": [
    "kommuner.loc['Summa']= kommuner.sum()"
   ]
  },
  {
   "cell_type": "code",
   "execution_count": 14,
   "metadata": {},
   "outputs": [],
   "source": [
    "kommuner['Totalt'] = kommuner.sum(axis=1)"
   ]
  },
  {
   "cell_type": "code",
   "execution_count": 15,
   "metadata": {},
   "outputs": [],
   "source": [
    "kommuner.columns = ['Kvinna', 'Man', 'Totalt']"
   ]
  },
  {
   "cell_type": "code",
   "execution_count": 16,
   "metadata": {},
   "outputs": [],
   "source": [
    "kommuner[\"Andel kvinnor\"] = (kommuner.Kvinna / kommuner.Totalt)*100"
   ]
  },
  {
   "cell_type": "code",
   "execution_count": 17,
   "metadata": {},
   "outputs": [],
   "source": [
    "kommuner[\"Andel män\"] = (kommuner.Man / kommuner.Totalt)*100"
   ]
  },
  {
   "cell_type": "markdown",
   "metadata": {},
   "source": [
    "Nu ser datasetet ut så här:"
   ]
  },
  {
   "cell_type": "code",
   "execution_count": 18,
   "metadata": {},
   "outputs": [
    {
     "data": {
      "text/html": [
       "<div>\n",
       "<style scoped>\n",
       "    .dataframe tbody tr th:only-of-type {\n",
       "        vertical-align: middle;\n",
       "    }\n",
       "\n",
       "    .dataframe tbody tr th {\n",
       "        vertical-align: top;\n",
       "    }\n",
       "\n",
       "    .dataframe thead th {\n",
       "        text-align: right;\n",
       "    }\n",
       "</style>\n",
       "<table border=\"1\" class=\"dataframe\">\n",
       "  <thead>\n",
       "    <tr style=\"text-align: right;\">\n",
       "      <th></th>\n",
       "      <th>Kvinna</th>\n",
       "      <th>Man</th>\n",
       "      <th>Totalt</th>\n",
       "      <th>Andel kvinnor</th>\n",
       "      <th>Andel män</th>\n",
       "    </tr>\n",
       "    <tr>\n",
       "      <th>Kommun</th>\n",
       "      <th></th>\n",
       "      <th></th>\n",
       "      <th></th>\n",
       "      <th></th>\n",
       "      <th></th>\n",
       "    </tr>\n",
       "  </thead>\n",
       "  <tbody>\n",
       "    <tr>\n",
       "      <th>Ale kommun</th>\n",
       "      <td>28</td>\n",
       "      <td>152</td>\n",
       "      <td>180</td>\n",
       "      <td>16</td>\n",
       "      <td>84</td>\n",
       "    </tr>\n",
       "    <tr>\n",
       "      <th>Alings�s kommun</th>\n",
       "      <td>73</td>\n",
       "      <td>377</td>\n",
       "      <td>450</td>\n",
       "      <td>16</td>\n",
       "      <td>84</td>\n",
       "    </tr>\n",
       "    <tr>\n",
       "      <th>Alvesta kommun</th>\n",
       "      <td>9</td>\n",
       "      <td>112</td>\n",
       "      <td>121</td>\n",
       "      <td>7</td>\n",
       "      <td>93</td>\n",
       "    </tr>\n",
       "    <tr>\n",
       "      <th>Aneby kommun</th>\n",
       "      <td>4</td>\n",
       "      <td>35</td>\n",
       "      <td>39</td>\n",
       "      <td>10</td>\n",
       "      <td>90</td>\n",
       "    </tr>\n",
       "    <tr>\n",
       "      <th>Arboga kommun</th>\n",
       "      <td>16</td>\n",
       "      <td>89</td>\n",
       "      <td>105</td>\n",
       "      <td>15</td>\n",
       "      <td>85</td>\n",
       "    </tr>\n",
       "  </tbody>\n",
       "</table>\n",
       "</div>"
      ],
      "text/plain": [
       "                 Kvinna  Man  Totalt  Andel kvinnor  Andel män\n",
       "Kommun                                                        \n",
       "Ale kommun           28  152     180             16         84\n",
       "Alings�s kommun      73  377     450             16         84\n",
       "Alvesta kommun        9  112     121              7         93\n",
       "Aneby kommun          4   35      39             10         90\n",
       "Arboga kommun        16   89     105             15         85"
      ]
     },
     "execution_count": 18,
     "metadata": {},
     "output_type": "execute_result"
    }
   ],
   "source": [
    "kommuner.head()"
   ]
  },
  {
   "cell_type": "markdown",
   "metadata": {},
   "source": [
    "### Rangordna kommunerna"
   ]
  },
  {
   "cell_type": "markdown",
   "metadata": {},
   "source": [
    "Här är andelen kvinnor lägst:"
   ]
  },
  {
   "cell_type": "code",
   "execution_count": 19,
   "metadata": {},
   "outputs": [
    {
     "data": {
      "text/html": [
       "<div>\n",
       "<style scoped>\n",
       "    .dataframe tbody tr th:only-of-type {\n",
       "        vertical-align: middle;\n",
       "    }\n",
       "\n",
       "    .dataframe tbody tr th {\n",
       "        vertical-align: top;\n",
       "    }\n",
       "\n",
       "    .dataframe thead th {\n",
       "        text-align: right;\n",
       "    }\n",
       "</style>\n",
       "<table border=\"1\" class=\"dataframe\">\n",
       "  <thead>\n",
       "    <tr style=\"text-align: right;\">\n",
       "      <th></th>\n",
       "      <th>Kvinna</th>\n",
       "      <th>Man</th>\n",
       "      <th>Totalt</th>\n",
       "      <th>Andel kvinnor</th>\n",
       "      <th>Andel män</th>\n",
       "    </tr>\n",
       "    <tr>\n",
       "      <th>Kommun</th>\n",
       "      <th></th>\n",
       "      <th></th>\n",
       "      <th></th>\n",
       "      <th></th>\n",
       "      <th></th>\n",
       "    </tr>\n",
       "  </thead>\n",
       "  <tbody>\n",
       "    <tr>\n",
       "      <th>Munkfors kommun</th>\n",
       "      <td>0</td>\n",
       "      <td>8</td>\n",
       "      <td>8</td>\n",
       "      <td>0</td>\n",
       "      <td>100</td>\n",
       "    </tr>\n",
       "    <tr>\n",
       "      <th>H�gsby kommun</th>\n",
       "      <td>1</td>\n",
       "      <td>37</td>\n",
       "      <td>38</td>\n",
       "      <td>3</td>\n",
       "      <td>97</td>\n",
       "    </tr>\n",
       "    <tr>\n",
       "      <th>Hagfors kommun</th>\n",
       "      <td>2</td>\n",
       "      <td>64</td>\n",
       "      <td>66</td>\n",
       "      <td>3</td>\n",
       "      <td>97</td>\n",
       "    </tr>\n",
       "    <tr>\n",
       "      <th>Hylte kommun</th>\n",
       "      <td>3</td>\n",
       "      <td>58</td>\n",
       "      <td>61</td>\n",
       "      <td>5</td>\n",
       "      <td>95</td>\n",
       "    </tr>\n",
       "    <tr>\n",
       "      <th>Hjo kommun</th>\n",
       "      <td>3</td>\n",
       "      <td>55</td>\n",
       "      <td>58</td>\n",
       "      <td>5</td>\n",
       "      <td>95</td>\n",
       "    </tr>\n",
       "  </tbody>\n",
       "</table>\n",
       "</div>"
      ],
      "text/plain": [
       "                 Kvinna  Man  Totalt  Andel kvinnor  Andel män\n",
       "Kommun                                                        \n",
       "Munkfors kommun       0    8       8              0        100\n",
       "H�gsby kommun         1   37      38              3         97\n",
       "Hagfors kommun        2   64      66              3         97\n",
       "Hylte kommun          3   58      61              5         95\n",
       "Hjo kommun            3   55      58              5         95"
      ]
     },
     "execution_count": 19,
     "metadata": {},
     "output_type": "execute_result"
    }
   ],
   "source": [
    "kommuner.sort_values(\"Andel kvinnor\").head()"
   ]
  },
  {
   "cell_type": "markdown",
   "metadata": {},
   "source": [
    "Här är andelen kvinnor högst:"
   ]
  },
  {
   "cell_type": "code",
   "execution_count": 20,
   "metadata": {},
   "outputs": [
    {
     "data": {
      "text/html": [
       "<div>\n",
       "<style scoped>\n",
       "    .dataframe tbody tr th:only-of-type {\n",
       "        vertical-align: middle;\n",
       "    }\n",
       "\n",
       "    .dataframe tbody tr th {\n",
       "        vertical-align: top;\n",
       "    }\n",
       "\n",
       "    .dataframe thead th {\n",
       "        text-align: right;\n",
       "    }\n",
       "</style>\n",
       "<table border=\"1\" class=\"dataframe\">\n",
       "  <thead>\n",
       "    <tr style=\"text-align: right;\">\n",
       "      <th></th>\n",
       "      <th>Kvinna</th>\n",
       "      <th>Man</th>\n",
       "      <th>Totalt</th>\n",
       "      <th>Andel kvinnor</th>\n",
       "      <th>Andel män</th>\n",
       "    </tr>\n",
       "    <tr>\n",
       "      <th>Kommun</th>\n",
       "      <th></th>\n",
       "      <th></th>\n",
       "      <th></th>\n",
       "      <th></th>\n",
       "      <th></th>\n",
       "    </tr>\n",
       "  </thead>\n",
       "  <tbody>\n",
       "    <tr>\n",
       "      <th>�sele kommun</th>\n",
       "      <td>11</td>\n",
       "      <td>19</td>\n",
       "      <td>30</td>\n",
       "      <td>37</td>\n",
       "      <td>63</td>\n",
       "    </tr>\n",
       "    <tr>\n",
       "      <th>Danderyd kommun</th>\n",
       "      <td>393</td>\n",
       "      <td>854</td>\n",
       "      <td>1247</td>\n",
       "      <td>32</td>\n",
       "      <td>68</td>\n",
       "    </tr>\n",
       "    <tr>\n",
       "      <th>Eker� kommun</th>\n",
       "      <td>136</td>\n",
       "      <td>343</td>\n",
       "      <td>479</td>\n",
       "      <td>28</td>\n",
       "      <td>72</td>\n",
       "    </tr>\n",
       "    <tr>\n",
       "      <th>H�gan�s kommun</th>\n",
       "      <td>108</td>\n",
       "      <td>274</td>\n",
       "      <td>382</td>\n",
       "      <td>28</td>\n",
       "      <td>72</td>\n",
       "    </tr>\n",
       "    <tr>\n",
       "      <th>Liding� kommun</th>\n",
       "      <td>323</td>\n",
       "      <td>825</td>\n",
       "      <td>1148</td>\n",
       "      <td>28</td>\n",
       "      <td>72</td>\n",
       "    </tr>\n",
       "  </tbody>\n",
       "</table>\n",
       "</div>"
      ],
      "text/plain": [
       "                 Kvinna  Man  Totalt  Andel kvinnor  Andel män\n",
       "Kommun                                                        \n",
       "�sele kommun         11   19      30             37         63\n",
       "Danderyd kommun     393  854    1247             32         68\n",
       "Eker� kommun        136  343     479             28         72\n",
       "H�gan�s kommun      108  274     382             28         72\n",
       "Liding� kommun      323  825    1148             28         72"
      ]
     },
     "execution_count": 20,
     "metadata": {},
     "output_type": "execute_result"
    }
   ],
   "source": [
    "kommuner.sort_values(\"Andel kvinnor\", ascending=False).head()"
   ]
  },
  {
   "cell_type": "markdown",
   "metadata": {},
   "source": [
    "### Exportera det nya datasetet till csv"
   ]
  },
  {
   "cell_type": "code",
   "execution_count": 21,
   "metadata": {},
   "outputs": [],
   "source": [
    "kommuner.to_csv(\"vd.csv\", decimal=',', sep=',', float_format='%.0f')"
   ]
  }
 ],
 "metadata": {
  "kernelspec": {
   "display_name": "Python 2",
   "language": "python",
   "name": "python2"
  },
  "language_info": {
   "codemirror_mode": {
    "name": "ipython",
    "version": 2
   },
   "file_extension": ".py",
   "mimetype": "text/x-python",
   "name": "python",
   "nbconvert_exporter": "python",
   "pygments_lexer": "ipython2",
   "version": "2.7.10"
  }
 },
 "nbformat": 4,
 "nbformat_minor": 2
}
